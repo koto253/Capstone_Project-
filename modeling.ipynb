{
 "cells": [
  {
   "cell_type": "code",
   "execution_count": 1,
   "metadata": {},
   "outputs": [],
   "source": [
    "import pandas as pd\n",
    "import numpy as np"
   ]
  },
  {
   "cell_type": "code",
   "execution_count": 2,
   "metadata": {},
   "outputs": [
    {
     "data": {
      "text/html": [
       "<div>\n",
       "<style scoped>\n",
       "    .dataframe tbody tr th:only-of-type {\n",
       "        vertical-align: middle;\n",
       "    }\n",
       "\n",
       "    .dataframe tbody tr th {\n",
       "        vertical-align: top;\n",
       "    }\n",
       "\n",
       "    .dataframe thead th {\n",
       "        text-align: right;\n",
       "    }\n",
       "</style>\n",
       "<table border=\"1\" class=\"dataframe\">\n",
       "  <thead>\n",
       "    <tr style=\"text-align: right;\">\n",
       "      <th></th>\n",
       "      <th>Country</th>\n",
       "      <th>Year</th>\n",
       "      <th>Exports_USD</th>\n",
       "      <th>GDP_USD</th>\n",
       "      <th>High_Tech_Exports_USD</th>\n",
       "      <th>Imports_USD</th>\n",
       "      <th>Industry_Value_Added_USD</th>\n",
       "      <th>Labor_Force</th>\n",
       "      <th>Military_Exp_USD</th>\n",
       "      <th>Population</th>\n",
       "      <th>Researchers_per_Million</th>\n",
       "      <th>Unemployment_Rate</th>\n",
       "      <th>Trade_Balance_USD</th>\n",
       "      <th>GDP_per_Capita_USD</th>\n",
       "      <th>Trade_GDP_Ratio</th>\n",
       "      <th>Number_of_Unemployed</th>\n",
       "    </tr>\n",
       "  </thead>\n",
       "  <tbody>\n",
       "    <tr>\n",
       "      <th>0</th>\n",
       "      <td>Argentina</td>\n",
       "      <td>1999</td>\n",
       "      <td>2.786230e+10</td>\n",
       "      <td>2.835230e+11</td>\n",
       "      <td>7.709377e+10</td>\n",
       "      <td>3.276270e+10</td>\n",
       "      <td>7.426497e+10</td>\n",
       "      <td>16410324</td>\n",
       "      <td>3.461731e+09</td>\n",
       "      <td>36653031</td>\n",
       "      <td>713.571045</td>\n",
       "      <td>14.05</td>\n",
       "      <td>-4.900400e+09</td>\n",
       "      <td>7735.32</td>\n",
       "      <td>85.04</td>\n",
       "      <td>5149751</td>\n",
       "    </tr>\n",
       "    <tr>\n",
       "      <th>1</th>\n",
       "      <td>Argentina</td>\n",
       "      <td>1999</td>\n",
       "      <td>3.122369e+10</td>\n",
       "      <td>2.842038e+11</td>\n",
       "      <td>7.709377e+10</td>\n",
       "      <td>3.307015e+10</td>\n",
       "      <td>7.386693e+10</td>\n",
       "      <td>16588444</td>\n",
       "      <td>3.266633e+09</td>\n",
       "      <td>37070774</td>\n",
       "      <td>716.688354</td>\n",
       "      <td>15.00</td>\n",
       "      <td>-1.846456e+09</td>\n",
       "      <td>7666.52</td>\n",
       "      <td>94.42</td>\n",
       "      <td>5560616</td>\n",
       "    </tr>\n",
       "    <tr>\n",
       "      <th>2</th>\n",
       "      <td>Argentina</td>\n",
       "      <td>1999</td>\n",
       "      <td>3.111242e+10</td>\n",
       "      <td>2.686968e+11</td>\n",
       "      <td>7.709377e+10</td>\n",
       "      <td>2.760388e+10</td>\n",
       "      <td>6.782829e+10</td>\n",
       "      <td>16651214</td>\n",
       "      <td>3.183592e+09</td>\n",
       "      <td>37480493</td>\n",
       "      <td>688.242737</td>\n",
       "      <td>17.32</td>\n",
       "      <td>3.508537e+09</td>\n",
       "      <td>7168.98</td>\n",
       "      <td>112.71</td>\n",
       "      <td>6491621</td>\n",
       "    </tr>\n",
       "    <tr>\n",
       "      <th>3</th>\n",
       "      <td>Argentina</td>\n",
       "      <td>1999</td>\n",
       "      <td>2.773661e+10</td>\n",
       "      <td>9.772400e+10</td>\n",
       "      <td>7.709377e+10</td>\n",
       "      <td>1.306582e+10</td>\n",
       "      <td>2.986224e+10</td>\n",
       "      <td>16491672</td>\n",
       "      <td>1.114172e+09</td>\n",
       "      <td>37885028</td>\n",
       "      <td>692.160828</td>\n",
       "      <td>19.59</td>\n",
       "      <td>1.467079e+10</td>\n",
       "      <td>2579.49</td>\n",
       "      <td>212.28</td>\n",
       "      <td>7421677</td>\n",
       "    </tr>\n",
       "    <tr>\n",
       "      <th>4</th>\n",
       "      <td>Argentina</td>\n",
       "      <td>1999</td>\n",
       "      <td>3.308451e+10</td>\n",
       "      <td>1.275870e+11</td>\n",
       "      <td>7.709377e+10</td>\n",
       "      <td>1.877290e+10</td>\n",
       "      <td>4.165089e+10</td>\n",
       "      <td>16951795</td>\n",
       "      <td>1.374874e+09</td>\n",
       "      <td>38278164</td>\n",
       "      <td>718.546326</td>\n",
       "      <td>15.36</td>\n",
       "      <td>1.431161e+10</td>\n",
       "      <td>3333.15</td>\n",
       "      <td>176.24</td>\n",
       "      <td>5879526</td>\n",
       "    </tr>\n",
       "  </tbody>\n",
       "</table>\n",
       "</div>"
      ],
      "text/plain": [
       "     Country  Year   Exports_USD       GDP_USD  High_Tech_Exports_USD  \\\n",
       "0  Argentina  1999  2.786230e+10  2.835230e+11           7.709377e+10   \n",
       "1  Argentina  1999  3.122369e+10  2.842038e+11           7.709377e+10   \n",
       "2  Argentina  1999  3.111242e+10  2.686968e+11           7.709377e+10   \n",
       "3  Argentina  1999  2.773661e+10  9.772400e+10           7.709377e+10   \n",
       "4  Argentina  1999  3.308451e+10  1.275870e+11           7.709377e+10   \n",
       "\n",
       "    Imports_USD  Industry_Value_Added_USD  Labor_Force  Military_Exp_USD  \\\n",
       "0  3.276270e+10              7.426497e+10     16410324      3.461731e+09   \n",
       "1  3.307015e+10              7.386693e+10     16588444      3.266633e+09   \n",
       "2  2.760388e+10              6.782829e+10     16651214      3.183592e+09   \n",
       "3  1.306582e+10              2.986224e+10     16491672      1.114172e+09   \n",
       "4  1.877290e+10              4.165089e+10     16951795      1.374874e+09   \n",
       "\n",
       "   Population  Researchers_per_Million  Unemployment_Rate  Trade_Balance_USD  \\\n",
       "0    36653031               713.571045              14.05      -4.900400e+09   \n",
       "1    37070774               716.688354              15.00      -1.846456e+09   \n",
       "2    37480493               688.242737              17.32       3.508537e+09   \n",
       "3    37885028               692.160828              19.59       1.467079e+10   \n",
       "4    38278164               718.546326              15.36       1.431161e+10   \n",
       "\n",
       "   GDP_per_Capita_USD  Trade_GDP_Ratio  Number_of_Unemployed  \n",
       "0             7735.32            85.04               5149751  \n",
       "1             7666.52            94.42               5560616  \n",
       "2             7168.98           112.71               6491621  \n",
       "3             2579.49           212.28               7421677  \n",
       "4             3333.15           176.24               5879526  "
      ]
     },
     "execution_count": 2,
     "metadata": {},
     "output_type": "execute_result"
    }
   ],
   "source": [
    "df = pd.read_csv('cleaned.csv')\n",
    "df.head()"
   ]
  },
  {
   "cell_type": "code",
   "execution_count": null,
   "metadata": {},
   "outputs": [],
   "source": []
  },
  {
   "cell_type": "code",
   "execution_count": 3,
   "metadata": {},
   "outputs": [
    {
     "name": "stdout",
     "output_type": "stream",
     "text": [
      "Target variable:  (450,)\n",
      "Features:  (450, 13)\n"
     ]
    }
   ],
   "source": [
    "# define the target variable\n",
    "y = df.GDP_USD\n",
    "\n",
    "# define the features\n",
    "X = df.drop(['GDP_USD', 'Country', 'Year'], axis=1)\n",
    "\n",
    "\n",
    "print('Target variable: ', y.shape)\n",
    "print('Features: ', X.shape)"
   ]
  },
  {
   "cell_type": "code",
   "execution_count": 4,
   "metadata": {},
   "outputs": [
    {
     "name": "stderr",
     "output_type": "stream",
     "text": [
      "/tmp/ipykernel_5921/1185454173.py:2: FutureWarning: DataFrame.applymap has been deprecated. Use DataFrame.map instead.\n",
      "  X = X.applymap(lambda x: round(x))\n"
     ]
    }
   ],
   "source": [
    "# Convert columns to rounded numbers\n",
    "X = X.applymap(lambda x: round(x))\n",
    "y = y.apply(lambda x: round(x))\n"
   ]
  },
  {
   "cell_type": "code",
   "execution_count": 54,
   "metadata": {},
   "outputs": [
    {
     "data": {
      "text/plain": [
       "dtype('int64')"
      ]
     },
     "execution_count": 54,
     "metadata": {},
     "output_type": "execute_result"
    }
   ],
   "source": []
  },
  {
   "cell_type": "code",
   "execution_count": 6,
   "metadata": {},
   "outputs": [],
   "source": [
    "\n",
    "from sklearn.model_selection import train_test_split\n",
    "from sklearn.preprocessing import StandardScaler\n",
    "\n",
    "scaler = StandardScaler()\n",
    "X_scaled = scaler.fit_transform(X)\n",
    "\n",
    "# split the data\n",
    "X_train, X_test, y_train, y_test = train_test_split(\n",
    "    X_scaled, y, test_size=0.3, random_state=42\n",
    ")"
   ]
  },
  {
   "cell_type": "code",
   "execution_count": 9,
   "metadata": {},
   "outputs": [],
   "source": [
    "# Build a linear regression model\n",
    "from sklearn.linear_model import LinearRegression\n",
    "\n",
    "# Train the model \n",
    "linear_model = LinearRegression()\n",
    "linear_model.fit(X_train, y_train)\n",
    "\n",
    "# make precdictions\n",
    "y_pred = linear_model.predict(X_test)"
   ]
  },
  {
   "cell_type": "code",
   "execution_count": 11,
   "metadata": {},
   "outputs": [
    {
     "name": "stdout",
     "output_type": "stream",
     "text": [
      "r_square:  0.9862155739398759\n"
     ]
    }
   ],
   "source": [
    "from sklearn.metrics import r2_score\n",
    "\n",
    "r_square = r2_score(y_test, y_pred)\n",
    "print('r_square: ', r_square)"
   ]
  },
  {
   "cell_type": "code",
   "execution_count": 14,
   "metadata": {},
   "outputs": [
    {
     "data": {
      "text/plain": [
       "np.float64(2701256178210.296)"
      ]
     },
     "execution_count": 14,
     "metadata": {},
     "output_type": "execute_result"
    }
   ],
   "source": [
    "y_pred.mean()"
   ]
  },
  {
   "cell_type": "code",
   "execution_count": 12,
   "metadata": {},
   "outputs": [
    {
     "name": "stdout",
     "output_type": "stream",
     "text": [
      "rmse:  562727997832.8556\n"
     ]
    }
   ],
   "source": [
    "from sklearn.metrics import root_mean_squared_error\n",
    "\n",
    "rmse = root_mean_squared_error(y_test, y_pred)\n",
    "print('rmse: ', rmse)\n"
   ]
  },
  {
   "cell_type": "code",
   "execution_count": 59,
   "metadata": {},
   "outputs": [
    {
     "data": {
      "image/png": "[encoded data removed]",
      "text/plain": [
       "<Figure size 1000x600 with 1 Axes>"
      ]
     },
     "metadata": {},
     "output_type": "display_data"
    }
   ],
   "source": [
    "import matplotlib.pyplot as plt\n",
    "\n",
    "# Create a colormap\n",
    "colors = np.linspace(0, 1, len(y_test))\n",
    "\n",
    "plt.figure(figsize=(10, 6))\n",
    "plt.scatter(y_test, y_pred, c=colors, label='Predictions vs Actuals')\n",
    "plt.plot([min(y_test), max(y_test)], [min(y_test), max(y_test)], color='red', linewidth=2, label='Ideal Line')\n",
    "plt.xlabel('Actual Values (y_test)')\n",
    "plt.ylabel('Predicted Values (pred_Y)')\n",
    "plt.title('Actual vs Predicted Values')\n",
    "plt.legend()\n",
    "plt.show()"
   ]
  },
  {
   "cell_type": "code",
   "execution_count": null,
   "metadata": {},
   "outputs": [],
   "source": []
  },
  {
   "cell_type": "code",
   "execution_count": null,
   "metadata": {},
   "outputs": [],
   "source": []
  },
  {
   "cell_type": "code",
   "execution_count": null,
   "metadata": {},
   "outputs": [],
   "source": []
  },
  {
   "cell_type": "code",
   "execution_count": null,
   "metadata": {},
   "outputs": [],
   "source": []
  },
  {
   "cell_type": "code",
   "execution_count": null,
   "metadata": {},
   "outputs": [],
   "source": []
  },
  {
   "cell_type": "code",
   "execution_count": null,
   "metadata": {},
   "outputs": [],
   "source": []
  }
 ],
 "metadata": {
  "kernelspec": {
   "display_name": "Python 3",
   "language": "python",
   "name": "python3"
  },
  "language_info": {
   "codemirror_mode": {
    "name": "ipython",
    "version": 3
   },
   "file_extension": ".py",
   "mimetype": "text/x-python",
   "name": "python",
   "nbconvert_exporter": "python",
   "pygments_lexer": "ipython3",
   "version": "3.10.13"
  }
 },
 "nbformat": 4,
 "nbformat_minor": 2
}
