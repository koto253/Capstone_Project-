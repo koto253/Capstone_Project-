{
 "cells": [
  {
   "cell_type": "code",
   "execution_count": 29,
   "metadata": {},
   "outputs": [],
   "source": [
    "import pandas as pd\n",
    "import numpy as np\n",
    "import matplotlib.pyplot as plt\n",
    "import seaborn as sns"
   ]
  },
  {
   "cell_type": "code",
   "execution_count": 30,
   "metadata": {},
   "outputs": [
    {
     "data": {
      "text/html": [
       "<div>\n",
       "<style scoped>\n",
       "    .dataframe tbody tr th:only-of-type {\n",
       "        vertical-align: middle;\n",
       "    }\n",
       "\n",
       "    .dataframe tbody tr th {\n",
       "        vertical-align: top;\n",
       "    }\n",
       "\n",
       "    .dataframe thead th {\n",
       "        text-align: right;\n",
       "    }\n",
       "</style>\n",
       "<table border=\"1\" class=\"dataframe\">\n",
       "  <thead>\n",
       "    <tr style=\"text-align: right;\">\n",
       "      <th></th>\n",
       "      <th>Gross_National_Income</th>\n",
       "      <th>Industry_growth_rate</th>\n",
       "      <th>Inflation_rate</th>\n",
       "      <th>Population</th>\n",
       "      <th>GDP_Per_Capita</th>\n",
       "      <th>Trade_Rate</th>\n",
       "      <th>Country_Albania</th>\n",
       "      <th>Country_Algeria</th>\n",
       "      <th>Country_American Samoa</th>\n",
       "      <th>Country_Andorra</th>\n",
       "      <th>...</th>\n",
       "      <th>Country_Uruguay</th>\n",
       "      <th>Country_Uzbekistan</th>\n",
       "      <th>Country_Vanuatu</th>\n",
       "      <th>Country_Venezuela, RB</th>\n",
       "      <th>Country_Viet Nam</th>\n",
       "      <th>Country_Virgin Islands (U.S.)</th>\n",
       "      <th>Country_West Bank and Gaza</th>\n",
       "      <th>Country_Yemen, Rep.</th>\n",
       "      <th>Country_Zambia</th>\n",
       "      <th>Country_Zimbabwe</th>\n",
       "    </tr>\n",
       "  </thead>\n",
       "  <tbody>\n",
       "    <tr>\n",
       "      <th>0</th>\n",
       "      <td>2.010516e+10</td>\n",
       "      <td>-5.0</td>\n",
       "      <td>2.0</td>\n",
       "      <td>38972230.0</td>\n",
       "      <td>512.0</td>\n",
       "      <td>0.0</td>\n",
       "      <td>False</td>\n",
       "      <td>False</td>\n",
       "      <td>False</td>\n",
       "      <td>False</td>\n",
       "      <td>...</td>\n",
       "      <td>False</td>\n",
       "      <td>False</td>\n",
       "      <td>False</td>\n",
       "      <td>False</td>\n",
       "      <td>False</td>\n",
       "      <td>False</td>\n",
       "      <td>False</td>\n",
       "      <td>False</td>\n",
       "      <td>False</td>\n",
       "      <td>False</td>\n",
       "    </tr>\n",
       "    <tr>\n",
       "      <th>1</th>\n",
       "      <td>1.435263e+10</td>\n",
       "      <td>-13.0</td>\n",
       "      <td>2.0</td>\n",
       "      <td>40099462.0</td>\n",
       "      <td>356.0</td>\n",
       "      <td>0.0</td>\n",
       "      <td>False</td>\n",
       "      <td>False</td>\n",
       "      <td>False</td>\n",
       "      <td>False</td>\n",
       "      <td>...</td>\n",
       "      <td>False</td>\n",
       "      <td>False</td>\n",
       "      <td>False</td>\n",
       "      <td>False</td>\n",
       "      <td>False</td>\n",
       "      <td>False</td>\n",
       "      <td>False</td>\n",
       "      <td>False</td>\n",
       "      <td>False</td>\n",
       "      <td>False</td>\n",
       "    </tr>\n",
       "    <tr>\n",
       "      <th>2</th>\n",
       "      <td>1.454522e+10</td>\n",
       "      <td>-6.0</td>\n",
       "      <td>2.0</td>\n",
       "      <td>41128771.0</td>\n",
       "      <td>353.0</td>\n",
       "      <td>0.0</td>\n",
       "      <td>False</td>\n",
       "      <td>False</td>\n",
       "      <td>False</td>\n",
       "      <td>False</td>\n",
       "      <td>...</td>\n",
       "      <td>False</td>\n",
       "      <td>False</td>\n",
       "      <td>False</td>\n",
       "      <td>False</td>\n",
       "      <td>False</td>\n",
       "      <td>False</td>\n",
       "      <td>False</td>\n",
       "      <td>False</td>\n",
       "      <td>False</td>\n",
       "      <td>False</td>\n",
       "    </tr>\n",
       "    <tr>\n",
       "      <th>3</th>\n",
       "      <td>1.319898e+10</td>\n",
       "      <td>-2.0</td>\n",
       "      <td>2.0</td>\n",
       "      <td>42239854.0</td>\n",
       "      <td>2233.0</td>\n",
       "      <td>0.0</td>\n",
       "      <td>False</td>\n",
       "      <td>False</td>\n",
       "      <td>False</td>\n",
       "      <td>False</td>\n",
       "      <td>...</td>\n",
       "      <td>False</td>\n",
       "      <td>False</td>\n",
       "      <td>False</td>\n",
       "      <td>False</td>\n",
       "      <td>False</td>\n",
       "      <td>False</td>\n",
       "      <td>False</td>\n",
       "      <td>False</td>\n",
       "      <td>False</td>\n",
       "      <td>False</td>\n",
       "    </tr>\n",
       "    <tr>\n",
       "      <th>4</th>\n",
       "      <td>1.185274e+10</td>\n",
       "      <td>2.0</td>\n",
       "      <td>2.0</td>\n",
       "      <td>2927519.0</td>\n",
       "      <td>4114.0</td>\n",
       "      <td>1.0</td>\n",
       "      <td>True</td>\n",
       "      <td>False</td>\n",
       "      <td>False</td>\n",
       "      <td>False</td>\n",
       "      <td>...</td>\n",
       "      <td>False</td>\n",
       "      <td>False</td>\n",
       "      <td>False</td>\n",
       "      <td>False</td>\n",
       "      <td>False</td>\n",
       "      <td>False</td>\n",
       "      <td>False</td>\n",
       "      <td>False</td>\n",
       "      <td>False</td>\n",
       "      <td>False</td>\n",
       "    </tr>\n",
       "  </tbody>\n",
       "</table>\n",
       "<p>5 rows × 222 columns</p>\n",
       "</div>"
      ],
      "text/plain": [
       "   Gross_National_Income  Industry_growth_rate  Inflation_rate  Population  \\\n",
       "0           2.010516e+10                  -5.0             2.0  38972230.0   \n",
       "1           1.435263e+10                 -13.0             2.0  40099462.0   \n",
       "2           1.454522e+10                  -6.0             2.0  41128771.0   \n",
       "3           1.319898e+10                  -2.0             2.0  42239854.0   \n",
       "4           1.185274e+10                   2.0             2.0   2927519.0   \n",
       "\n",
       "   GDP_Per_Capita  Trade_Rate  Country_Albania  Country_Algeria  \\\n",
       "0           512.0         0.0            False            False   \n",
       "1           356.0         0.0            False            False   \n",
       "2           353.0         0.0            False            False   \n",
       "3          2233.0         0.0            False            False   \n",
       "4          4114.0         1.0             True            False   \n",
       "\n",
       "   Country_American Samoa  Country_Andorra  ...  Country_Uruguay  \\\n",
       "0                   False            False  ...            False   \n",
       "1                   False            False  ...            False   \n",
       "2                   False            False  ...            False   \n",
       "3                   False            False  ...            False   \n",
       "4                   False            False  ...            False   \n",
       "\n",
       "   Country_Uzbekistan  Country_Vanuatu  Country_Venezuela, RB  \\\n",
       "0               False            False                  False   \n",
       "1               False            False                  False   \n",
       "2               False            False                  False   \n",
       "3               False            False                  False   \n",
       "4               False            False                  False   \n",
       "\n",
       "   Country_Viet Nam  Country_Virgin Islands (U.S.)  \\\n",
       "0             False                          False   \n",
       "1             False                          False   \n",
       "2             False                          False   \n",
       "3             False                          False   \n",
       "4             False                          False   \n",
       "\n",
       "   Country_West Bank and Gaza  Country_Yemen, Rep.  Country_Zambia  \\\n",
       "0                       False                False           False   \n",
       "1                       False                False           False   \n",
       "2                       False                False           False   \n",
       "3                       False                False           False   \n",
       "4                       False                False           False   \n",
       "\n",
       "   Country_Zimbabwe  \n",
       "0             False  \n",
       "1             False  \n",
       "2             False  \n",
       "3             False  \n",
       "4             False  \n",
       "\n",
       "[5 rows x 222 columns]"
      ]
     },
     "execution_count": 30,
     "metadata": {},
     "output_type": "execute_result"
    }
   ],
   "source": [
    "# load the data\n",
    "df = pd.read_csv('ml.csv')\n",
    "df.head()"
   ]
  },
  {
   "cell_type": "code",
   "execution_count": 31,
   "metadata": {},
   "outputs": [],
   "source": [
    "# define the target variable\n",
    "y = df['GDP_Per_Capita']\n",
    "\n",
    "# define the features\n",
    "X = df.drop(['GDP_Per_Capita'], axis=1)"
   ]
  },
  {
   "cell_type": "code",
   "execution_count": 32,
   "metadata": {},
   "outputs": [],
   "source": [
    "from sklearn.model_selection import train_test_split, cross_val_score, learning_curve\n",
    "\n",
    "# split the data\n",
    "X_train, X_test, y_train, y_test = train_test_split(\n",
    "    X, y, test_size=0.2, random_state=2\n",
    ")\n",
    "\n",
    "# Scale the features\n",
    "from sklearn.preprocessing import StandardScaler\n",
    "\n",
    "# Scale the features\n",
    "scaler = StandardScaler()\n",
    "X_train = scaler.fit_transform(X_train)\n",
    "X_test = scaler.fit_transform(X_test)"
   ]
  },
  {
   "cell_type": "code",
   "execution_count": 33,
   "metadata": {},
   "outputs": [],
   "source": [
    "from sklearn.linear_model import LinearRegression, Lasso, ElasticNet, Ridge\n",
    "from sklearn.metrics import root_mean_squared_error, r2_score\n",
    "from sklearn.model_selection import cross_val_score"
   ]
  },
  {
   "cell_type": "markdown",
   "metadata": {},
   "source": [
    "# Linear Regression "
   ]
  },
  {
   "cell_type": "code",
   "execution_count": 34,
   "metadata": {},
   "outputs": [
    {
     "name": "stdout",
     "output_type": "stream",
     "text": [
      "Cross-validation R2: [0.96480632 0.95837051 0.95664266 0.95159508 0.96263332]\n",
      "Mean R2: 0.9588095795973277\n"
     ]
    }
   ],
   "source": [
    "# Build the model\n",
    "linear_reg = LinearRegression()\n",
    "\n",
    "# Fit the model\n",
    "linear_pre = cross_val_score(linear_reg, X_train, y_train, cv=5, scoring='r2')\n",
    "\n",
    "## Print the cross-validation scores\n",
    "print(\"Cross-validation R2:\", linear_pre)\n",
    "print(\"Mean R2:\", np.mean(linear_pre))"
   ]
  },
  {
   "cell_type": "markdown",
   "metadata": {},
   "source": [
    "## Lasso Regression"
   ]
  },
  {
   "cell_type": "code",
   "execution_count": 35,
   "metadata": {},
   "outputs": [
    {
     "name": "stdout",
     "output_type": "stream",
     "text": [
      "Cross-validation R2: [0.96476371 0.95839035 0.95664214 0.95157273 0.96261284]\n",
      "Mean R2: 0.9587963542453755\n"
     ]
    }
   ],
   "source": [
    "# Build a Lasso regression model\n",
    "lasso_reg = Lasso(max_iter=10000, alpha=1.0)  # Increase max_iter and adjust alpha\n",
    "\n",
    "# Make predictions\n",
    "lasso_pre = cross_val_score(lasso_reg, X_train, y_train, cv=5, scoring='r2')\n",
    "\n",
    "## Print the cross-validation scores\n",
    "print(\"Cross-validation R2:\", lasso_pre)\n",
    "print(\"Mean R2:\", np.mean(lasso_pre))"
   ]
  },
  {
   "cell_type": "markdown",
   "metadata": {},
   "source": [
    "# Elastic Net Regression"
   ]
  },
  {
   "cell_type": "code",
   "execution_count": 36,
   "metadata": {},
   "outputs": [
    {
     "name": "stdout",
     "output_type": "stream",
     "text": [
      "Cross-validation R2: [0.84007189 0.85726625 0.84696732 0.85723212 0.83806518]\n",
      "Mean R2: 0.8479205536165202\n"
     ]
    }
   ],
   "source": [
    "# Increase max_iter and adjust alpha\n",
    "elastic_net_reg = ElasticNet(max_iter=10000, alpha=1.0)\n",
    "\n",
    "# Make predictions\n",
    "elastic_net_pre = cross_val_score(elastic_net_reg, X_train, y_train, cv=5, scoring='r2')\n",
    "\n",
    "# Print the cross-validation scores\n",
    "print(\"Cross-validation R2:\", elastic_net_pre)\n",
    "print(\"Mean R2:\", np.mean(elastic_net_pre))"
   ]
  },
  {
   "cell_type": "markdown",
   "metadata": {},
   "source": [
    "# Ridge Regression "
   ]
  },
  {
   "cell_type": "code",
   "execution_count": 37,
   "metadata": {},
   "outputs": [
    {
     "name": "stdout",
     "output_type": "stream",
     "text": [
      "Cross-validation R2: [0.96472876 0.95837624 0.95670545 0.95148063 0.96260947]\n",
      "Mean R2: 0.9587801103454991\n"
     ]
    }
   ],
   "source": [
    "# Build a Ridge regression model\n",
    "ridge_reg = Ridge(alpha=1.0)\n",
    "\n",
    "# Make predictions\n",
    "ridge_pre = cross_val_score(ridge_reg, X_train, y_train, cv=5, scoring='r2')\n",
    "\n",
    "# Print the cross-validation scores\n",
    "print(\"Cross-validation R2:\", ridge_pre)\n",
    "print(\"Mean R2:\", np.mean(ridge_pre))"
   ]
  }
 ],
 "metadata": {
  "kernelspec": {
   "display_name": "Python 3",
   "language": "python",
   "name": "python3"
  },
  "language_info": {
   "codemirror_mode": {
    "name": "ipython",
    "version": 3
   },
   "file_extension": ".py",
   "mimetype": "text/x-python",
   "name": "python",
   "nbconvert_exporter": "python",
   "pygments_lexer": "ipython3",
   "version": "3.10.13"
  }
 },
 "nbformat": 4,
 "nbformat_minor": 2
}
