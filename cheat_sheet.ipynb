{
 "cells": [
  {
   "cell_type": "code",
   "execution_count": null,
   "metadata": {},
   "outputs": [],
   "source": [
    "# Convert columns to rounded numbers\n",
    "X = X.applymap(lambda x: round(x))\n",
    "y = y.apply(lambda x: round(x))"
   ]
  },
  {
   "cell_type": "code",
   "execution_count": null,
   "metadata": {},
   "outputs": [],
   "source": [
    "from sklearn.preprocessing import StandardScaler\n",
    "\n",
    "# scaler = StandardScaler()\n",
    "# X_scaled = scaler.fit_transform(X)"
   ]
  },
  {
   "cell_type": "code",
   "execution_count": null,
   "metadata": {},
   "outputs": [],
   "source": [
    "# Define the function to map country to groups\n",
    "def map_country_to_group(country):\n",
    "    if country in ['Canada', 'United State', 'France', 'Germany', 'Japan', 'United Kingdom', 'Italy',\n",
    "                   'Albania', 'Belgium', 'Bulgaria', 'Croatia', 'Czechia', 'Denmark', 'Estonia',\n",
    "                   'Finland', 'Greece', 'Hungary', 'Iceland', 'Latvia', 'Lithuania', 'Luxembourg',\n",
    "                   'Montenegro', 'Netherlands', 'North Macedonia', 'Norway', 'Poland', 'Portugal',\n",
    "                   'Romania', 'Slovak Republic', 'Slovenia', 'Spain', 'Sweden']:\n",
    "        return 0\n",
    "    elif country in ['Brazil', 'Russian Federation', 'India', 'China', 'South Africa', 'Egypt, Arab Rep.', 'Ethiopia', \n",
    "                     'Iran, Islamic Rep.', 'United Arab Emirates', 'Saudi Arabia', 'Turkiye']:\n",
    "        return 1\n",
    "    else:\n",
    "        return 2\n",
    "\n",
    "df['Inter_Gov_Org'] = df['Country'].apply(map_country_to_group)\n",
    "df.head()\n",
    "\n",
    "# Nato = 1\n",
    "# Brics = 2\n",
    "# Others = 3\n",
    "\n",
    "# Drop rows where Inter_Gov_Org equals 2\n",
    "df = df[df['Inter_Gov_Org'] != 2]\n",
    "df.tail()"
   ]
  }
 ],
 "metadata": {
  "language_info": {
   "name": "python"
  }
 },
 "nbformat": 4,
 "nbformat_minor": 2
}
